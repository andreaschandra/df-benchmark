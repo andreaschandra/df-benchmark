{
 "cells": [
  {
   "cell_type": "code",
   "execution_count": 1,
   "id": "3d1ec994-b7d1-4537-bd7f-fd39d5fed1a8",
   "metadata": {},
   "outputs": [],
   "source": [
    "import os\n",
    "import datetime\n",
    "\n",
    "import pandas as pd\n",
    "import polars as pl\n",
    "import dask.dataframe as dd"
   ]
  },
  {
   "cell_type": "code",
   "execution_count": 2,
   "id": "05fdbd2a-2f30-436f-91f2-6def2a8da647",
   "metadata": {},
   "outputs": [],
   "source": [
    "DATA_DIR_PATH = '../data'"
   ]
  },
  {
   "cell_type": "code",
   "execution_count": 3,
   "id": "b1618532-146d-4e5a-afb9-6f0ddda396e4",
   "metadata": {},
   "outputs": [],
   "source": [
    "SM_BATCH_DIR_PATH = os.path.join(DATA_DIR_PATH, 'batch-100K')"
   ]
  },
  {
   "cell_type": "code",
   "execution_count": 4,
   "id": "62f432e4-0593-4754-8f31-78fd9fa5b0a4",
   "metadata": {},
   "outputs": [],
   "source": [
    "filenames = sorted(os.listdir(SM_BATCH_DIR_PATH), key=lambda x: int(x.split('_')[-1].replace('.csv', '')))"
   ]
  },
  {
   "cell_type": "code",
   "execution_count": 5,
   "id": "5b02d440-31a7-420b-b47a-8c1bfbbbb00f",
   "metadata": {},
   "outputs": [
    {
     "data": {
      "text/plain": [
       "'batch_0.csv'"
      ]
     },
     "execution_count": 5,
     "metadata": {},
     "output_type": "execute_result"
    }
   ],
   "source": [
    "filenames[0]"
   ]
  },
  {
   "cell_type": "code",
   "execution_count": 6,
   "id": "c7cca082-0998-418a-9706-bc2376c90f5b",
   "metadata": {},
   "outputs": [],
   "source": [
    "today_datetime = datetime.datetime.today()"
   ]
  },
  {
   "cell_type": "markdown",
   "id": "6920a181-2d08-4b4a-9bcd-2f61b5138bc6",
   "metadata": {},
   "source": [
    "### Benchmark Exercise"
   ]
  },
  {
   "cell_type": "markdown",
   "id": "6643fc0e-aa50-4d57-8cc0-27e88f04a94e",
   "metadata": {},
   "source": [
    "1. Read & Write File\n",
    "2. Date Operation\n",
    "3. Math computation\n",
    "4. Groupby and Count\n",
    "5. String operation e.g. Replace\n",
    "6. Sorting"
   ]
  },
  {
   "cell_type": "markdown",
   "id": "c12eebba-9b86-4078-b5fe-b210797ec5c2",
   "metadata": {},
   "source": [
    "### Pandas"
   ]
  },
  {
   "cell_type": "markdown",
   "id": "d62773b4-29c9-48c6-868e-d33c0aebe5db",
   "metadata": {},
   "source": [
    "Load Data"
   ]
  },
  {
   "cell_type": "code",
   "execution_count": null,
   "id": "f578807d-d215-4b8f-a5f9-b101b642f81a",
   "metadata": {},
   "outputs": [],
   "source": [
    "d_sm_batch_pd = pd.read_csv(os.path.join(SM_BATCH_DIR_PATH, filenames[0]))"
   ]
  },
  {
   "cell_type": "code",
   "execution_count": null,
   "id": "56023c6d-c584-49d3-b1d3-550b10c01ef4",
   "metadata": {},
   "outputs": [],
   "source": [
    "d_sm_batch_pd"
   ]
  },
  {
   "cell_type": "code",
   "execution_count": null,
   "id": "e16df5db-4904-4120-a3e2-33b472b94a0b",
   "metadata": {},
   "outputs": [],
   "source": [
    "# %timeit -r 10 -n 1 d_sm_batch_pd = pd.read_csv(os.path.join(SM_BATCH_DIR_PATH, filenames[0]))"
   ]
  },
  {
   "cell_type": "code",
   "execution_count": null,
   "id": "6401f047-28de-4235-8d78-6c154a57c3db",
   "metadata": {},
   "outputs": [],
   "source": [
    "### save timeit to vairable\n",
    "# timedur = %timeit -r 2 -n 5 -o pd.read_csv(os.path.join(SM_BATCH_DIR_PATH, filenames[0]))"
   ]
  },
  {
   "cell_type": "markdown",
   "id": "a4b6564f-0d5f-4b78-a342-806e869cec8c",
   "metadata": {},
   "source": [
    "Datetime operation"
   ]
  },
  {
   "cell_type": "code",
   "execution_count": null,
   "id": "9fd0fef9-bd83-40f7-8307-56594f09d3e0",
   "metadata": {},
   "outputs": [],
   "source": [
    "d_sm_batch_pd.birthdate = pd.to_datetime(d_sm_batch_pd.birthdate)"
   ]
  },
  {
   "cell_type": "code",
   "execution_count": null,
   "id": "432eb406-cdfd-40a1-978e-96c2bcf9563d",
   "metadata": {},
   "outputs": [],
   "source": [
    "d_sm_batch_pd['age_in_days'] = (today_datetime - d_sm_batch_pd.birthdate).dt.days"
   ]
  },
  {
   "cell_type": "markdown",
   "id": "af6e2ad0-0428-42c1-980d-fb93c4a5b49f",
   "metadata": {},
   "source": [
    "Math operation"
   ]
  },
  {
   "cell_type": "code",
   "execution_count": null,
   "id": "9bec7cc8-7370-4755-9f37-476f363ae1b3",
   "metadata": {},
   "outputs": [],
   "source": [
    "d_sm_batch_pd.age_in_days.sum()"
   ]
  },
  {
   "cell_type": "markdown",
   "id": "1c7dc32e-03e8-4371-a063-67c697fdb622",
   "metadata": {},
   "source": [
    "Groupby and count"
   ]
  },
  {
   "cell_type": "code",
   "execution_count": null,
   "id": "7264a8c0-c9a8-4d6b-86ba-c9331e140f74",
   "metadata": {},
   "outputs": [],
   "source": [
    "d_sm_batch_pd.groupby('sex').username.count()"
   ]
  },
  {
   "cell_type": "markdown",
   "id": "960e9a45-e865-4356-bea1-3292a26696c2",
   "metadata": {},
   "source": [
    "String operation"
   ]
  },
  {
   "cell_type": "code",
   "execution_count": null,
   "id": "c19d67f8-e450-4d3a-b4ed-2633606dcb98",
   "metadata": {},
   "outputs": [],
   "source": [
    "d_sm_batch_pd.mail.str.split('@', expand=True).loc[:, 1].value_counts()"
   ]
  },
  {
   "cell_type": "code",
   "execution_count": null,
   "id": "3aebcd43-b46a-4b2a-8271-89ce71f75df7",
   "metadata": {},
   "outputs": [],
   "source": [
    "%timeit d_sm_batch_pd.mail.str.replace('.com', '.id')"
   ]
  },
  {
   "cell_type": "markdown",
   "id": "5ba7318d-fc62-47fa-bbf1-5568c8667568",
   "metadata": {},
   "source": [
    "Sorting"
   ]
  },
  {
   "cell_type": "code",
   "execution_count": null,
   "id": "7bb4b7a1-421a-412b-b0c7-7d1e938bcbc5",
   "metadata": {},
   "outputs": [],
   "source": [
    "d_sm_batch_pd.sort_values('age_in_days')"
   ]
  },
  {
   "cell_type": "markdown",
   "id": "93b919bf-519a-4740-b660-293a0d6e929a",
   "metadata": {},
   "source": [
    "### Polars"
   ]
  },
  {
   "cell_type": "code",
   "execution_count": null,
   "id": "1ae7cb03-d69d-450f-b0c4-34ba4a00d2ed",
   "metadata": {},
   "outputs": [],
   "source": [
    "d_sm_batch_pl = pl.read_csv(os.path.join(SM_BATCH_DIR_PATH, filenames[0]))"
   ]
  },
  {
   "cell_type": "code",
   "execution_count": null,
   "id": "b4e21efe-5ac0-4742-ad67-725bf0646339",
   "metadata": {},
   "outputs": [],
   "source": [
    "d_sm_batch_pl.head()"
   ]
  },
  {
   "cell_type": "markdown",
   "id": "ca0aa1a9-a5c5-497d-aae9-b9f2e7042582",
   "metadata": {},
   "source": [
    "Datetime Operation"
   ]
  },
  {
   "cell_type": "code",
   "execution_count": null,
   "id": "16ea902d-1087-49cf-ac4f-b02942fe6dff",
   "metadata": {},
   "outputs": [],
   "source": [
    "d_sm_batch_pl = d_sm_batch_pl.with_columns(d_sm_batch_pl['birthdate'].str.to_datetime())"
   ]
  },
  {
   "cell_type": "code",
   "execution_count": null,
   "id": "8f2951a9-671a-40a6-9f11-22f923cbb7bc",
   "metadata": {},
   "outputs": [],
   "source": [
    "d_sm_batch_pl = d_sm_batch_pl.with_columns((today_datetime - d_sm_batch_pl['birthdate']).dt.days().alias('age_in_days'))"
   ]
  },
  {
   "cell_type": "markdown",
   "id": "a0f84401-c011-44ba-8908-72ff3124e581",
   "metadata": {},
   "source": [
    "Math operation"
   ]
  },
  {
   "cell_type": "code",
   "execution_count": null,
   "id": "b04dbf36-8e35-43ea-8906-16e1700b1f67",
   "metadata": {},
   "outputs": [],
   "source": [
    "d_sm_batch_pl['age_in_days'].sum()"
   ]
  },
  {
   "cell_type": "markdown",
   "id": "1927873f-2895-48b1-b157-6afd9b53c201",
   "metadata": {},
   "source": [
    "Groupby and count"
   ]
  },
  {
   "cell_type": "code",
   "execution_count": null,
   "id": "22e27c48-860e-4f6e-ac85-d1427e7669c1",
   "metadata": {},
   "outputs": [],
   "source": [
    "d_sm_batch_pl.group_by('sex').agg(pl.col('username').count().alias('total_users'))"
   ]
  },
  {
   "cell_type": "markdown",
   "id": "2b69ef97-7c3f-4f45-9008-30b150ee4f92",
   "metadata": {},
   "source": [
    "String operation"
   ]
  },
  {
   "cell_type": "code",
   "execution_count": null,
   "id": "f1fc5cb1-1fa5-458c-92ee-5f53c0097401",
   "metadata": {},
   "outputs": [],
   "source": [
    "d_sm_batch_pl = d_sm_batch_pl.with_columns(d_sm_batch_pl['mail'].str.replace('.com', '.co.id'))"
   ]
  },
  {
   "cell_type": "markdown",
   "id": "067d16c2-d539-419c-8eaa-c6c1646b0441",
   "metadata": {},
   "source": [
    "Sorting"
   ]
  },
  {
   "cell_type": "code",
   "execution_count": null,
   "id": "7b6e2e6c-5b05-4060-ab61-ba7055dd9c81",
   "metadata": {},
   "outputs": [],
   "source": [
    "d_sm_batch_pl.sort('age_in_days')"
   ]
  },
  {
   "cell_type": "markdown",
   "id": "f20e2147-fc87-4354-ba0c-f62096adb80e",
   "metadata": {},
   "source": [
    "### Dask"
   ]
  },
  {
   "cell_type": "code",
   "execution_count": 8,
   "id": "9521273d-970e-49fb-9eb2-60a94778d6f9",
   "metadata": {},
   "outputs": [],
   "source": [
    "d_sm_batch_dd = dd.read_csv(os.path.join(SM_BATCH_DIR_PATH, filenames[0]))"
   ]
  },
  {
   "cell_type": "code",
   "execution_count": 9,
   "id": "109cc9e7-1204-463f-b33d-54c29c5bc970",
   "metadata": {},
   "outputs": [
    {
     "data": {
      "text/html": [
       "<div>\n",
       "<style scoped>\n",
       "    .dataframe tbody tr th:only-of-type {\n",
       "        vertical-align: middle;\n",
       "    }\n",
       "\n",
       "    .dataframe tbody tr th {\n",
       "        vertical-align: top;\n",
       "    }\n",
       "\n",
       "    .dataframe thead th {\n",
       "        text-align: right;\n",
       "    }\n",
       "</style>\n",
       "<table border=\"1\" class=\"dataframe\">\n",
       "  <thead>\n",
       "    <tr style=\"text-align: right;\">\n",
       "      <th></th>\n",
       "      <th>job</th>\n",
       "      <th>company</th>\n",
       "      <th>ssn</th>\n",
       "      <th>blood_group</th>\n",
       "      <th>username</th>\n",
       "      <th>sex</th>\n",
       "      <th>mail</th>\n",
       "      <th>birthdate</th>\n",
       "    </tr>\n",
       "  </thead>\n",
       "  <tbody>\n",
       "    <tr>\n",
       "      <th>0</th>\n",
       "      <td>Emergency planning/management officer</td>\n",
       "      <td>Washington, Torres and Conner</td>\n",
       "      <td>036-51-3780</td>\n",
       "      <td>B-</td>\n",
       "      <td>samanthafisher</td>\n",
       "      <td>F</td>\n",
       "      <td>jaredlogan@yahoo.com</td>\n",
       "      <td>1925-05-15</td>\n",
       "    </tr>\n",
       "    <tr>\n",
       "      <th>1</th>\n",
       "      <td>English as a second language teacher</td>\n",
       "      <td>Hudson-Woods</td>\n",
       "      <td>197-91-9713</td>\n",
       "      <td>A+</td>\n",
       "      <td>fallen</td>\n",
       "      <td>F</td>\n",
       "      <td>chelsea15@yahoo.com</td>\n",
       "      <td>1987-11-13</td>\n",
       "    </tr>\n",
       "    <tr>\n",
       "      <th>2</th>\n",
       "      <td>English as a foreign language teacher</td>\n",
       "      <td>Moore-Pratt</td>\n",
       "      <td>226-31-0368</td>\n",
       "      <td>O-</td>\n",
       "      <td>whiteheadchristopher</td>\n",
       "      <td>M</td>\n",
       "      <td>zclayton@yahoo.com</td>\n",
       "      <td>1979-09-19</td>\n",
       "    </tr>\n",
       "    <tr>\n",
       "      <th>3</th>\n",
       "      <td>Dealer</td>\n",
       "      <td>Smith Group</td>\n",
       "      <td>041-74-2846</td>\n",
       "      <td>A+</td>\n",
       "      <td>wstewart</td>\n",
       "      <td>M</td>\n",
       "      <td>christophertorres@yahoo.com</td>\n",
       "      <td>1915-03-11</td>\n",
       "    </tr>\n",
       "    <tr>\n",
       "      <th>4</th>\n",
       "      <td>Minerals surveyor</td>\n",
       "      <td>Simmons, Horton and Martin</td>\n",
       "      <td>474-61-9160</td>\n",
       "      <td>O+</td>\n",
       "      <td>valerie23</td>\n",
       "      <td>M</td>\n",
       "      <td>dennis58@gmail.com</td>\n",
       "      <td>1992-12-18</td>\n",
       "    </tr>\n",
       "  </tbody>\n",
       "</table>\n",
       "</div>"
      ],
      "text/plain": [
       "                                     job                        company  \\\n",
       "0  Emergency planning/management officer  Washington, Torres and Conner   \n",
       "1   English as a second language teacher                   Hudson-Woods   \n",
       "2  English as a foreign language teacher                    Moore-Pratt   \n",
       "3                                 Dealer                    Smith Group   \n",
       "4                      Minerals surveyor     Simmons, Horton and Martin   \n",
       "\n",
       "           ssn blood_group              username sex  \\\n",
       "0  036-51-3780          B-        samanthafisher   F   \n",
       "1  197-91-9713          A+                fallen   F   \n",
       "2  226-31-0368          O-  whiteheadchristopher   M   \n",
       "3  041-74-2846          A+              wstewart   M   \n",
       "4  474-61-9160          O+             valerie23   M   \n",
       "\n",
       "                          mail   birthdate  \n",
       "0         jaredlogan@yahoo.com  1925-05-15  \n",
       "1          chelsea15@yahoo.com  1987-11-13  \n",
       "2           zclayton@yahoo.com  1979-09-19  \n",
       "3  christophertorres@yahoo.com  1915-03-11  \n",
       "4           dennis58@gmail.com  1992-12-18  "
      ]
     },
     "execution_count": 9,
     "metadata": {},
     "output_type": "execute_result"
    }
   ],
   "source": [
    "d_sm_batch_dd.head()"
   ]
  },
  {
   "cell_type": "code",
   "execution_count": 10,
   "id": "2e54100f-17f0-4707-b344-5015cceb5c11",
   "metadata": {},
   "outputs": [
    {
     "data": {
      "text/plain": [
       "job            object\n",
       "company        object\n",
       "ssn            object\n",
       "blood_group    object\n",
       "username       object\n",
       "sex            object\n",
       "mail           object\n",
       "birthdate      object\n",
       "dtype: object"
      ]
     },
     "execution_count": 10,
     "metadata": {},
     "output_type": "execute_result"
    }
   ],
   "source": [
    "d_sm_batch_dd.dtypes"
   ]
  },
  {
   "cell_type": "markdown",
   "id": "f55a4099-e924-4847-afe2-a6edd77e6df1",
   "metadata": {},
   "source": [
    "Datetime operation"
   ]
  },
  {
   "cell_type": "code",
   "execution_count": 11,
   "id": "f652f0c3-0556-46c0-a234-d2952f70e6a7",
   "metadata": {},
   "outputs": [],
   "source": [
    "d_sm_batch_dd.birthdate = dd.to_datetime(d_sm_batch_dd.birthdate)"
   ]
  },
  {
   "cell_type": "code",
   "execution_count": 12,
   "id": "5d2ea1ff-fe6e-4f6d-9808-b3ed61b8723f",
   "metadata": {},
   "outputs": [
    {
     "data": {
      "text/plain": [
       "job                    object\n",
       "company                object\n",
       "ssn                    object\n",
       "blood_group            object\n",
       "username               object\n",
       "sex                    object\n",
       "mail                   object\n",
       "birthdate      datetime64[ns]\n",
       "dtype: object"
      ]
     },
     "execution_count": 12,
     "metadata": {},
     "output_type": "execute_result"
    }
   ],
   "source": [
    "d_sm_batch_dd.dtypes"
   ]
  },
  {
   "cell_type": "code",
   "execution_count": 13,
   "id": "158723c7-5050-47a7-8fcf-6c5aa41ed2aa",
   "metadata": {},
   "outputs": [],
   "source": [
    "d_sm_batch_dd['age_in_days'] = (today_datetime - d_sm_batch_dd.birthdate).dt.days"
   ]
  },
  {
   "cell_type": "code",
   "execution_count": 14,
   "id": "d78db1e4-405c-47bc-a846-247103d27df3",
   "metadata": {},
   "outputs": [
    {
     "data": {
      "text/html": [
       "<div>\n",
       "<style scoped>\n",
       "    .dataframe tbody tr th:only-of-type {\n",
       "        vertical-align: middle;\n",
       "    }\n",
       "\n",
       "    .dataframe tbody tr th {\n",
       "        vertical-align: top;\n",
       "    }\n",
       "\n",
       "    .dataframe thead th {\n",
       "        text-align: right;\n",
       "    }\n",
       "</style>\n",
       "<table border=\"1\" class=\"dataframe\">\n",
       "  <thead>\n",
       "    <tr style=\"text-align: right;\">\n",
       "      <th></th>\n",
       "      <th>job</th>\n",
       "      <th>company</th>\n",
       "      <th>ssn</th>\n",
       "      <th>blood_group</th>\n",
       "      <th>username</th>\n",
       "      <th>sex</th>\n",
       "      <th>mail</th>\n",
       "      <th>birthdate</th>\n",
       "      <th>age_in_days</th>\n",
       "    </tr>\n",
       "  </thead>\n",
       "  <tbody>\n",
       "    <tr>\n",
       "      <th>0</th>\n",
       "      <td>Emergency planning/management officer</td>\n",
       "      <td>Washington, Torres and Conner</td>\n",
       "      <td>036-51-3780</td>\n",
       "      <td>B-</td>\n",
       "      <td>samanthafisher</td>\n",
       "      <td>F</td>\n",
       "      <td>jaredlogan@yahoo.com</td>\n",
       "      <td>1925-05-15</td>\n",
       "      <td>35970</td>\n",
       "    </tr>\n",
       "    <tr>\n",
       "      <th>1</th>\n",
       "      <td>English as a second language teacher</td>\n",
       "      <td>Hudson-Woods</td>\n",
       "      <td>197-91-9713</td>\n",
       "      <td>A+</td>\n",
       "      <td>fallen</td>\n",
       "      <td>F</td>\n",
       "      <td>chelsea15@yahoo.com</td>\n",
       "      <td>1987-11-13</td>\n",
       "      <td>13143</td>\n",
       "    </tr>\n",
       "    <tr>\n",
       "      <th>2</th>\n",
       "      <td>English as a foreign language teacher</td>\n",
       "      <td>Moore-Pratt</td>\n",
       "      <td>226-31-0368</td>\n",
       "      <td>O-</td>\n",
       "      <td>whiteheadchristopher</td>\n",
       "      <td>M</td>\n",
       "      <td>zclayton@yahoo.com</td>\n",
       "      <td>1979-09-19</td>\n",
       "      <td>16120</td>\n",
       "    </tr>\n",
       "    <tr>\n",
       "      <th>3</th>\n",
       "      <td>Dealer</td>\n",
       "      <td>Smith Group</td>\n",
       "      <td>041-74-2846</td>\n",
       "      <td>A+</td>\n",
       "      <td>wstewart</td>\n",
       "      <td>M</td>\n",
       "      <td>christophertorres@yahoo.com</td>\n",
       "      <td>1915-03-11</td>\n",
       "      <td>39688</td>\n",
       "    </tr>\n",
       "    <tr>\n",
       "      <th>4</th>\n",
       "      <td>Minerals surveyor</td>\n",
       "      <td>Simmons, Horton and Martin</td>\n",
       "      <td>474-61-9160</td>\n",
       "      <td>O+</td>\n",
       "      <td>valerie23</td>\n",
       "      <td>M</td>\n",
       "      <td>dennis58@gmail.com</td>\n",
       "      <td>1992-12-18</td>\n",
       "      <td>11281</td>\n",
       "    </tr>\n",
       "  </tbody>\n",
       "</table>\n",
       "</div>"
      ],
      "text/plain": [
       "                                     job                        company  \\\n",
       "0  Emergency planning/management officer  Washington, Torres and Conner   \n",
       "1   English as a second language teacher                   Hudson-Woods   \n",
       "2  English as a foreign language teacher                    Moore-Pratt   \n",
       "3                                 Dealer                    Smith Group   \n",
       "4                      Minerals surveyor     Simmons, Horton and Martin   \n",
       "\n",
       "           ssn blood_group              username sex  \\\n",
       "0  036-51-3780          B-        samanthafisher   F   \n",
       "1  197-91-9713          A+                fallen   F   \n",
       "2  226-31-0368          O-  whiteheadchristopher   M   \n",
       "3  041-74-2846          A+              wstewart   M   \n",
       "4  474-61-9160          O+             valerie23   M   \n",
       "\n",
       "                          mail  birthdate  age_in_days  \n",
       "0         jaredlogan@yahoo.com 1925-05-15        35970  \n",
       "1          chelsea15@yahoo.com 1987-11-13        13143  \n",
       "2           zclayton@yahoo.com 1979-09-19        16120  \n",
       "3  christophertorres@yahoo.com 1915-03-11        39688  \n",
       "4           dennis58@gmail.com 1992-12-18        11281  "
      ]
     },
     "execution_count": 14,
     "metadata": {},
     "output_type": "execute_result"
    }
   ],
   "source": [
    "d_sm_batch_dd.head()"
   ]
  },
  {
   "cell_type": "markdown",
   "id": "639c7959-d2dd-4251-af52-2e19441b5e41",
   "metadata": {},
   "source": [
    "Math operation"
   ]
  },
  {
   "cell_type": "code",
   "execution_count": 16,
   "id": "281883ef-9b44-43e4-8040-23ba5b9a42e5",
   "metadata": {},
   "outputs": [
    {
     "data": {
      "text/plain": [
       "2123019047"
      ]
     },
     "execution_count": 16,
     "metadata": {},
     "output_type": "execute_result"
    }
   ],
   "source": [
    "d_sm_batch_dd.age_in_days.sum().compute()"
   ]
  },
  {
   "cell_type": "markdown",
   "id": "30836472-6693-4e25-95dc-1e583fd58dbc",
   "metadata": {},
   "source": [
    "Groupby and count"
   ]
  },
  {
   "cell_type": "code",
   "execution_count": 20,
   "id": "133fec65-ef3d-4f2a-92bd-65b6e80656df",
   "metadata": {},
   "outputs": [
    {
     "data": {
      "text/plain": [
       "sex\n",
       "F    49766\n",
       "M    50234\n",
       "Name: username, dtype: int64"
      ]
     },
     "execution_count": 20,
     "metadata": {},
     "output_type": "execute_result"
    }
   ],
   "source": [
    "d_sm_batch_dd.groupby('sex').username.count().compute()"
   ]
  },
  {
   "cell_type": "markdown",
   "id": "b5bcab81-f16b-41dd-b97f-5e6e1b2efb48",
   "metadata": {},
   "source": [
    "String operation"
   ]
  },
  {
   "cell_type": "code",
   "execution_count": 23,
   "id": "66de2f5a-1012-4cfa-986f-1b95fdbbc4f7",
   "metadata": {},
   "outputs": [
    {
     "data": {
      "text/plain": [
       "0               jaredlogan@yahoo.co.id\n",
       "1                chelsea15@yahoo.co.id\n",
       "2                 zclayton@yahoo.co.id\n",
       "3        christophertorres@yahoo.co.id\n",
       "4                 dennis58@gmail.co.id\n",
       "                     ...              \n",
       "99995          lmatthews@hotmail.co.id\n",
       "99996           janice54@hotmail.co.id\n",
       "99997          anthonyryan@yahoo.co.id\n",
       "99998           daniel30@hotmail.co.id\n",
       "99999           jennifer20@yahoo.co.id\n",
       "Name: mail, Length: 100000, dtype: object"
      ]
     },
     "execution_count": 23,
     "metadata": {},
     "output_type": "execute_result"
    }
   ],
   "source": [
    "d_sm_batch_dd.mail.str.replace('.com', '.co.id').compute()"
   ]
  },
  {
   "cell_type": "markdown",
   "id": "d3a3d1c2-4c13-4694-824c-7ff4ca5e14dc",
   "metadata": {},
   "source": [
    "Sort operation"
   ]
  },
  {
   "cell_type": "code",
   "execution_count": 25,
   "id": "2d688c11-eebb-42a2-839c-c3c4d7ea5948",
   "metadata": {},
   "outputs": [
    {
     "data": {
      "text/html": [
       "<div>\n",
       "<style scoped>\n",
       "    .dataframe tbody tr th:only-of-type {\n",
       "        vertical-align: middle;\n",
       "    }\n",
       "\n",
       "    .dataframe tbody tr th {\n",
       "        vertical-align: top;\n",
       "    }\n",
       "\n",
       "    .dataframe thead th {\n",
       "        text-align: right;\n",
       "    }\n",
       "</style>\n",
       "<table border=\"1\" class=\"dataframe\">\n",
       "  <thead>\n",
       "    <tr style=\"text-align: right;\">\n",
       "      <th></th>\n",
       "      <th>job</th>\n",
       "      <th>company</th>\n",
       "      <th>ssn</th>\n",
       "      <th>blood_group</th>\n",
       "      <th>username</th>\n",
       "      <th>sex</th>\n",
       "      <th>mail</th>\n",
       "      <th>birthdate</th>\n",
       "      <th>age_in_days</th>\n",
       "    </tr>\n",
       "  </thead>\n",
       "  <tbody>\n",
       "    <tr>\n",
       "      <th>27402</th>\n",
       "      <td>Psychologist, sport and exercise</td>\n",
       "      <td>Thomas PLC</td>\n",
       "      <td>442-06-7688</td>\n",
       "      <td>AB-</td>\n",
       "      <td>williamsann</td>\n",
       "      <td>M</td>\n",
       "      <td>howepaul@hotmail.com</td>\n",
       "      <td>2023-11-02</td>\n",
       "      <td>5</td>\n",
       "    </tr>\n",
       "    <tr>\n",
       "      <th>7798</th>\n",
       "      <td>Careers adviser</td>\n",
       "      <td>Scott-Garrison</td>\n",
       "      <td>453-03-3169</td>\n",
       "      <td>O+</td>\n",
       "      <td>deannasmith</td>\n",
       "      <td>F</td>\n",
       "      <td>debra41@hotmail.com</td>\n",
       "      <td>2023-11-02</td>\n",
       "      <td>5</td>\n",
       "    </tr>\n",
       "    <tr>\n",
       "      <th>96738</th>\n",
       "      <td>Materials engineer</td>\n",
       "      <td>Mcdonald-Nelson</td>\n",
       "      <td>503-04-2774</td>\n",
       "      <td>O-</td>\n",
       "      <td>mcknightjean</td>\n",
       "      <td>F</td>\n",
       "      <td>stephenssarah@yahoo.com</td>\n",
       "      <td>2023-11-02</td>\n",
       "      <td>5</td>\n",
       "    </tr>\n",
       "    <tr>\n",
       "      <th>49842</th>\n",
       "      <td>Geophysicist/field seismologist</td>\n",
       "      <td>Jackson-Bowman</td>\n",
       "      <td>750-50-5473</td>\n",
       "      <td>AB-</td>\n",
       "      <td>tmoreno</td>\n",
       "      <td>F</td>\n",
       "      <td>michael69@gmail.com</td>\n",
       "      <td>2023-11-01</td>\n",
       "      <td>6</td>\n",
       "    </tr>\n",
       "    <tr>\n",
       "      <th>68178</th>\n",
       "      <td>Catering manager</td>\n",
       "      <td>Hughes-Cohen</td>\n",
       "      <td>567-99-9756</td>\n",
       "      <td>AB-</td>\n",
       "      <td>nicholasowens</td>\n",
       "      <td>M</td>\n",
       "      <td>teresa44@hotmail.com</td>\n",
       "      <td>2023-11-01</td>\n",
       "      <td>6</td>\n",
       "    </tr>\n",
       "    <tr>\n",
       "      <th>...</th>\n",
       "      <td>...</td>\n",
       "      <td>...</td>\n",
       "      <td>...</td>\n",
       "      <td>...</td>\n",
       "      <td>...</td>\n",
       "      <td>...</td>\n",
       "      <td>...</td>\n",
       "      <td>...</td>\n",
       "      <td>...</td>\n",
       "    </tr>\n",
       "    <tr>\n",
       "      <th>11153</th>\n",
       "      <td>Engineering geologist</td>\n",
       "      <td>Smith Inc</td>\n",
       "      <td>298-34-8288</td>\n",
       "      <td>AB+</td>\n",
       "      <td>fwest</td>\n",
       "      <td>F</td>\n",
       "      <td>reneetaylor@gmail.com</td>\n",
       "      <td>1907-11-06</td>\n",
       "      <td>42370</td>\n",
       "    </tr>\n",
       "    <tr>\n",
       "      <th>21380</th>\n",
       "      <td>Journalist, newspaper</td>\n",
       "      <td>Mckenzie, Hicks and Nelson</td>\n",
       "      <td>324-21-1696</td>\n",
       "      <td>A-</td>\n",
       "      <td>jonesjose</td>\n",
       "      <td>F</td>\n",
       "      <td>timothycolon@yahoo.com</td>\n",
       "      <td>1907-11-05</td>\n",
       "      <td>42371</td>\n",
       "    </tr>\n",
       "    <tr>\n",
       "      <th>69204</th>\n",
       "      <td>Engineer, water</td>\n",
       "      <td>Porter, Campbell and Davis</td>\n",
       "      <td>337-29-8801</td>\n",
       "      <td>A+</td>\n",
       "      <td>gloriaking</td>\n",
       "      <td>F</td>\n",
       "      <td>deanfrederick@yahoo.com</td>\n",
       "      <td>1907-11-05</td>\n",
       "      <td>42371</td>\n",
       "    </tr>\n",
       "    <tr>\n",
       "      <th>81151</th>\n",
       "      <td>Electrical engineer</td>\n",
       "      <td>Sutton, Barrera and Olson</td>\n",
       "      <td>615-15-4279</td>\n",
       "      <td>AB-</td>\n",
       "      <td>cobbkristen</td>\n",
       "      <td>F</td>\n",
       "      <td>wjohnson@yahoo.com</td>\n",
       "      <td>1907-11-05</td>\n",
       "      <td>42371</td>\n",
       "    </tr>\n",
       "    <tr>\n",
       "      <th>7109</th>\n",
       "      <td>Higher education careers adviser</td>\n",
       "      <td>Jones, Woods and Petersen</td>\n",
       "      <td>152-58-0015</td>\n",
       "      <td>B-</td>\n",
       "      <td>ogolden</td>\n",
       "      <td>M</td>\n",
       "      <td>christiandoyle@gmail.com</td>\n",
       "      <td>1907-11-05</td>\n",
       "      <td>42371</td>\n",
       "    </tr>\n",
       "  </tbody>\n",
       "</table>\n",
       "<p>100000 rows × 9 columns</p>\n",
       "</div>"
      ],
      "text/plain": [
       "                                    job                     company  \\\n",
       "27402  Psychologist, sport and exercise                  Thomas PLC   \n",
       "7798                    Careers adviser              Scott-Garrison   \n",
       "96738                Materials engineer             Mcdonald-Nelson   \n",
       "49842   Geophysicist/field seismologist              Jackson-Bowman   \n",
       "68178                  Catering manager                Hughes-Cohen   \n",
       "...                                 ...                         ...   \n",
       "11153             Engineering geologist                   Smith Inc   \n",
       "21380             Journalist, newspaper  Mckenzie, Hicks and Nelson   \n",
       "69204                   Engineer, water  Porter, Campbell and Davis   \n",
       "81151               Electrical engineer   Sutton, Barrera and Olson   \n",
       "7109   Higher education careers adviser   Jones, Woods and Petersen   \n",
       "\n",
       "               ssn blood_group       username sex                      mail  \\\n",
       "27402  442-06-7688         AB-    williamsann   M      howepaul@hotmail.com   \n",
       "7798   453-03-3169          O+    deannasmith   F       debra41@hotmail.com   \n",
       "96738  503-04-2774          O-   mcknightjean   F   stephenssarah@yahoo.com   \n",
       "49842  750-50-5473         AB-        tmoreno   F       michael69@gmail.com   \n",
       "68178  567-99-9756         AB-  nicholasowens   M      teresa44@hotmail.com   \n",
       "...            ...         ...            ...  ..                       ...   \n",
       "11153  298-34-8288         AB+          fwest   F     reneetaylor@gmail.com   \n",
       "21380  324-21-1696          A-      jonesjose   F    timothycolon@yahoo.com   \n",
       "69204  337-29-8801          A+     gloriaking   F   deanfrederick@yahoo.com   \n",
       "81151  615-15-4279         AB-    cobbkristen   F        wjohnson@yahoo.com   \n",
       "7109   152-58-0015          B-        ogolden   M  christiandoyle@gmail.com   \n",
       "\n",
       "       birthdate  age_in_days  \n",
       "27402 2023-11-02            5  \n",
       "7798  2023-11-02            5  \n",
       "96738 2023-11-02            5  \n",
       "49842 2023-11-01            6  \n",
       "68178 2023-11-01            6  \n",
       "...          ...          ...  \n",
       "11153 1907-11-06        42370  \n",
       "21380 1907-11-05        42371  \n",
       "69204 1907-11-05        42371  \n",
       "81151 1907-11-05        42371  \n",
       "7109  1907-11-05        42371  \n",
       "\n",
       "[100000 rows x 9 columns]"
      ]
     },
     "execution_count": 25,
     "metadata": {},
     "output_type": "execute_result"
    }
   ],
   "source": [
    "d_sm_batch_dd.sort_values('age_in_days').compute()"
   ]
  },
  {
   "cell_type": "code",
   "execution_count": null,
   "id": "618cd01f-4f54-4b33-976c-3a1ba199361d",
   "metadata": {},
   "outputs": [],
   "source": []
  }
 ],
 "metadata": {
  "kernelspec": {
   "display_name": "Python 3 (ipykernel)",
   "language": "python",
   "name": "python3"
  },
  "language_info": {
   "codemirror_mode": {
    "name": "ipython",
    "version": 3
   },
   "file_extension": ".py",
   "mimetype": "text/x-python",
   "name": "python",
   "nbconvert_exporter": "python",
   "pygments_lexer": "ipython3",
   "version": "3.9.13"
  }
 },
 "nbformat": 4,
 "nbformat_minor": 5
}
