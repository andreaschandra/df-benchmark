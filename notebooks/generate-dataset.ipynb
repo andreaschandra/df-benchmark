{
 "cells": [
  {
   "cell_type": "code",
   "execution_count": 13,
   "id": "546f3266-8220-4421-bc02-964d766cf7ba",
   "metadata": {},
   "outputs": [],
   "source": [
    "import os"
   ]
  },
  {
   "cell_type": "code",
   "execution_count": 14,
   "id": "df9b1766-c052-4354-a67d-77a1656def78",
   "metadata": {},
   "outputs": [
    {
     "data": {
      "text/plain": [
       "16"
      ]
     },
     "execution_count": 14,
     "metadata": {},
     "output_type": "execute_result"
    }
   ],
   "source": [
    "os.cpu_count()"
   ]
  },
  {
   "cell_type": "code",
   "execution_count": 1,
   "id": "c26bba0e-646c-4ad7-a96f-2a0853bcc01a",
   "metadata": {},
   "outputs": [],
   "source": [
    "import pandas as pd\n",
    "from faker import Faker\n",
    "fake = Faker()"
   ]
  },
  {
   "cell_type": "code",
   "execution_count": 7,
   "id": "ab7c8f56-a197-47d1-b13e-c60edc1abf64",
   "metadata": {},
   "outputs": [],
   "source": [
    "for _ in range(5):\n",
    "    row = fake.profile(fields=['username', 'birthdate', 'sex', 'blood_group', 'mail', 'ssn', 'job', 'company',])\n",
    "    break"
   ]
  },
  {
   "cell_type": "code",
   "execution_count": 8,
   "id": "3c6f9c6b-a188-4496-bac1-c6114ebe1546",
   "metadata": {},
   "outputs": [
    {
     "name": "stdout",
     "output_type": "stream",
     "text": [
      "{'job': 'Special educational needs teacher', 'company': 'Day Group', 'ssn': '731-82-6716', 'blood_group': 'B+', 'username': 'davidwhite', 'sex': 'F', 'mail': 'maria37@hotmail.com', 'birthdate': datetime.date(1993, 10, 31)}\n"
     ]
    }
   ],
   "source": [
    "print(row)"
   ]
  },
  {
   "cell_type": "code",
   "execution_count": 9,
   "id": "7075b197-6df3-4410-92f7-5615a0e00f2e",
   "metadata": {},
   "outputs": [],
   "source": [
    "d_sample = pd.DataFrame([row])"
   ]
  },
  {
   "cell_type": "code",
   "execution_count": 10,
   "id": "830fb11f-1222-41c5-8be1-0d6402c6d0b0",
   "metadata": {},
   "outputs": [
    {
     "data": {
      "text/html": [
       "<div>\n",
       "<style scoped>\n",
       "    .dataframe tbody tr th:only-of-type {\n",
       "        vertical-align: middle;\n",
       "    }\n",
       "\n",
       "    .dataframe tbody tr th {\n",
       "        vertical-align: top;\n",
       "    }\n",
       "\n",
       "    .dataframe thead th {\n",
       "        text-align: right;\n",
       "    }\n",
       "</style>\n",
       "<table border=\"1\" class=\"dataframe\">\n",
       "  <thead>\n",
       "    <tr style=\"text-align: right;\">\n",
       "      <th></th>\n",
       "      <th>job</th>\n",
       "      <th>company</th>\n",
       "      <th>ssn</th>\n",
       "      <th>blood_group</th>\n",
       "      <th>username</th>\n",
       "      <th>sex</th>\n",
       "      <th>mail</th>\n",
       "      <th>birthdate</th>\n",
       "    </tr>\n",
       "  </thead>\n",
       "  <tbody>\n",
       "    <tr>\n",
       "      <th>0</th>\n",
       "      <td>Special educational needs teacher</td>\n",
       "      <td>Day Group</td>\n",
       "      <td>731-82-6716</td>\n",
       "      <td>B+</td>\n",
       "      <td>davidwhite</td>\n",
       "      <td>F</td>\n",
       "      <td>maria37@hotmail.com</td>\n",
       "      <td>1993-10-31</td>\n",
       "    </tr>\n",
       "  </tbody>\n",
       "</table>\n",
       "</div>"
      ],
      "text/plain": [
       "                                 job    company          ssn blood_group  \\\n",
       "0  Special educational needs teacher  Day Group  731-82-6716          B+   \n",
       "\n",
       "     username sex                 mail   birthdate  \n",
       "0  davidwhite   F  maria37@hotmail.com  1993-10-31  "
      ]
     },
     "execution_count": 10,
     "metadata": {},
     "output_type": "execute_result"
    }
   ],
   "source": [
    "d_sample"
   ]
  },
  {
   "cell_type": "code",
   "execution_count": 11,
   "id": "9b6dc0d1-e03f-4e5d-ad7d-aa0736f06fd7",
   "metadata": {},
   "outputs": [],
   "source": [
    "d_sample.to_csv('../data/sample.csv', index=False)"
   ]
  },
  {
   "cell_type": "code",
   "execution_count": null,
   "id": "a240d32a-728e-4bec-a815-669981876c0e",
   "metadata": {},
   "outputs": [],
   "source": []
  }
 ],
 "metadata": {
  "kernelspec": {
   "display_name": "Python 3 (ipykernel)",
   "language": "python",
   "name": "python3"
  },
  "language_info": {
   "codemirror_mode": {
    "name": "ipython",
    "version": 3
   },
   "file_extension": ".py",
   "mimetype": "text/x-python",
   "name": "python",
   "nbconvert_exporter": "python",
   "pygments_lexer": "ipython3",
   "version": "3.9.13"
  }
 },
 "nbformat": 4,
 "nbformat_minor": 5
}
